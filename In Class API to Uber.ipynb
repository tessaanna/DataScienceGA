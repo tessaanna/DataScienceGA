{
 "cells": [
  {
   "cell_type": "code",
   "execution_count": 31,
   "metadata": {
    "collapsed": true
   },
   "outputs": [],
   "source": [
    "import requests\n",
    "import time #this will prevent us from DDOSing their systems\n",
    "from bs4 import BeautifulSoup\n",
    "import pandas as pd\n",
    "import numpy as np\n",
    "import json"
   ]
  },
  {
   "cell_type": "code",
   "execution_count": 5,
   "metadata": {
    "collapsed": false
   },
   "outputs": [],
   "source": [
    "coordinates = pd.DataFrame([[38.917221, 38.910525, 38.766335, 38.910004, 38.864772, 38.9497058], \n",
    "               [-77.0415997, -77.02365, -77.147626, -77.020183, -76.973936, -77.0118382]])"
   ]
  },
  {
   "cell_type": "code",
   "execution_count": 60,
   "metadata": {
    "collapsed": false,
    "scrolled": true
   },
   "outputs": [
    {
     "name": "stdout",
     "output_type": "stream",
     "text": [
      "200 OK  -  https://api.uber.com/v1.2/estimates/price?start_longitude=-77.036217&end_longitude=-77.0415997&start_latitude=38.9048728&end_latitude=38.917221\n",
      "200 OK  -  https://api.uber.com/v1.2/estimates/price?start_longitude=-77.036217&end_longitude=-77.02365&start_latitude=38.9048728&end_latitude=38.910525\n",
      "200 OK  -  https://api.uber.com/v1.2/estimates/price?start_longitude=-77.036217&end_longitude=-77.147626&start_latitude=38.9048728&end_latitude=38.766335\n",
      "200 OK  -  https://api.uber.com/v1.2/estimates/price?start_longitude=-77.036217&end_longitude=-77.020183&start_latitude=38.9048728&end_latitude=38.910004\n",
      "200 OK  -  https://api.uber.com/v1.2/estimates/price?start_longitude=-77.036217&end_longitude=-76.973936&start_latitude=38.9048728&end_latitude=38.864772\n",
      "200 OK  -  https://api.uber.com/v1.2/estimates/price?start_longitude=-77.036217&end_longitude=-77.0118382&start_latitude=38.9048728&end_latitude=38.9497058\n"
     ]
    }
   ],
   "source": [
    "def uberProducts(auth_token, s_latitude, s_longitude, e_latitude, e_longitude): \n",
    "    with requests.session() as c:\n",
    "        url = 'https://api.uber.com/v1.2/estimates/price'\n",
    "        query = {'start_latitude':  s_latitude, 'start_longitude': s_longitude, 'end_latitude': e_latitude, 'end_longitude' : e_longitude}\n",
    "        headers = {'Accept-Language': 'en_US', 'Content-Type': 'application/json', 'Authorization': 'Token ' + auth_token }\n",
    "        time.sleep(.5)\n",
    "        r = requests.get(url, params=query, headers=headers)\n",
    "        print r.status_code, r.reason, ' - ', r.url\n",
    "        return r\n",
    "\n",
    "def import_response_to_pandas(response):\n",
    "    \"\"\"\n",
    "    For Uber API v1.2.\n",
    "    This function converts a successful API response and returns a pandas dataframe.\n",
    "    If the response was not successful, it returns an empty list.\n",
    "    \"\"\"\n",
    "    response_as_dict = json.loads(response.content)\n",
    "    if 'prices' in response_as_dict:\n",
    "        return pd.read_json(json.dumps(response_as_dict['prices']))\n",
    "    else:\n",
    "        return []\n",
    "\n",
    "\n",
    "groupPool = range(0, 100, 10)\n",
    "\n",
    "for i in coordinates:\n",
    "    response = uberProducts('P3yvujYYMqULTwg5X9euvOYvR1sNQ0w9as-hQ2Ub', 38.9048728,-77.036217, coordinates[i][0], coordinates[i][1] )\n",
    "    response.content\n",
    "    time.sleep(.25)\n",
    "    df_add = import_response_to_pandas(response)\n",
    "    if i == 0:\n",
    "        Data = df_add\n",
    "    else:\n",
    "        Data = Data.append(df_add, ignore_index=True)"
   ]
  },
  {
   "cell_type": "code",
   "execution_count": 66,
   "metadata": {
    "collapsed": false
   },
   "outputs": [
    {
     "data": {
      "text/html": [
       "<div>\n",
       "<table border=\"1\" class=\"dataframe\">\n",
       "  <thead>\n",
       "    <tr style=\"text-align: right;\">\n",
       "      <th></th>\n",
       "      <th>distance</th>\n",
       "      <th>duration</th>\n",
       "      <th>high_estimate</th>\n",
       "      <th>low_estimate</th>\n",
       "    </tr>\n",
       "    <tr>\n",
       "      <th>localized_display_name</th>\n",
       "      <th></th>\n",
       "      <th></th>\n",
       "      <th></th>\n",
       "      <th></th>\n",
       "    </tr>\n",
       "  </thead>\n",
       "  <tbody>\n",
       "    <tr>\n",
       "      <th>POOL</th>\n",
       "      <td>30.46</td>\n",
       "      <td>4680</td>\n",
       "      <td>81.0</td>\n",
       "      <td>57.0</td>\n",
       "    </tr>\n",
       "    <tr>\n",
       "      <th>uberX</th>\n",
       "      <td>30.46</td>\n",
       "      <td>4680</td>\n",
       "      <td>102.0</td>\n",
       "      <td>76.0</td>\n",
       "    </tr>\n",
       "  </tbody>\n",
       "</table>\n",
       "</div>"
      ],
      "text/plain": [
       "                        distance  duration  high_estimate  low_estimate\n",
       "localized_display_name                                                 \n",
       "POOL                       30.46      4680           81.0          57.0\n",
       "uberX                      30.46      4680          102.0          76.0"
      ]
     },
     "execution_count": 66,
     "metadata": {},
     "output_type": "execute_result"
    }
   ],
   "source": [
    "df_type = Data[ (Data['display_name'] == 'POOL') | (Data['display_name'] == 'uberX') ]\n",
    "display_name = df_type.groupby('localized_display_name').sum()\n",
    "display_name"
   ]
  },
  {
   "cell_type": "code",
   "execution_count": null,
   "metadata": {
    "collapsed": false,
    "scrolled": true
   },
   "outputs": [],
   "source": []
  },
  {
   "cell_type": "code",
   "execution_count": null,
   "metadata": {
    "collapsed": false
   },
   "outputs": [],
   "source": []
  }
 ],
 "metadata": {
  "kernelspec": {
   "display_name": "Python 2",
   "language": "python",
   "name": "python2"
  },
  "language_info": {
   "codemirror_mode": {
    "name": "ipython",
    "version": 2
   },
   "file_extension": ".py",
   "mimetype": "text/x-python",
   "name": "python",
   "nbconvert_exporter": "python",
   "pygments_lexer": "ipython2",
   "version": "2.7.13"
  }
 },
 "nbformat": 4,
 "nbformat_minor": 2
}
