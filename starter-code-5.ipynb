{
 "cells": [
  {
   "cell_type": "markdown",
   "metadata": {},
   "source": [
    "## Lab 5 - Gathering Data"
   ]
  },
  {
   "cell_type": "markdown",
   "metadata": {},
   "source": [
    "For your final project, you'll need to find a dataset. \n",
    "\n",
    "Take a little time to browse this page to see what's available for your interests: https://github.com/caesar0301/awesome-public-datasets.\n",
    "\n",
    "Similarly, check here to see what APIs are available: https://www.programmableweb.com/category/all/apis. Note that some of these APIs are Web APIs only, and required a bearer token.\n",
    "\n",
    "When you're done, let's get some more practice connecting to an API."
   ]
  },
  {
   "cell_type": "code",
   "execution_count": 1,
   "metadata": {
    "collapsed": false
   },
   "outputs": [],
   "source": [
    "# Imports\n",
    "import numpy as np\n",
    "import pandas as pd\n",
    "import seaborn as sns\n",
    "import matplotlib.pyplot as plt\n",
    "import matplotlib as mpl\n",
    "import time\n",
    "import json\n",
    "import requests\n",
    "\n",
    "# Magic!\n",
    "%matplotlib inline"
   ]
  },
  {
   "cell_type": "markdown",
   "metadata": {},
   "source": [
    "# Project\n",
    "\n",
    "Spotify's API is particularly easy to use. See their documentation here: https://developer.spotify.com/web-api/endpoint-reference/\n",
    "\n",
    "Any endpoint on the table without OAuth on the right hand side is fair game without any authentication, although you get a higher rate limit if you register with them. They don't post what their rate limit is so be careful about hitting their API too fast. How do you know if you went over? See here: https://developer.spotify.com/web-api/user-guide/#rate-limiting.\n",
    "\n",
    "We have already learned a large part of the data science process. The below workflow is common to many data science questions."
   ]
  },
  {
   "cell_type": "markdown",
   "metadata": {},
   "source": [
    "### Identify the Problem"
   ]
  },
  {
   "cell_type": "code",
   "execution_count": 8,
   "metadata": {
    "collapsed": true
   },
   "outputs": [],
   "source": [
    "# See what data is available, and ask a SMART question\n",
    "# As with most APIs, your IP address will get banned if you exceed the limit. \n",
    "# If a strict rate limit prevents you from answering your question, find a different question to ask that requires relatively few calls."
   ]
  },
  {
   "cell_type": "markdown",
   "metadata": {},
   "source": [
    "### Extract the data"
   ]
  },
  {
   "cell_type": "code",
   "execution_count": 2,
   "metadata": {
    "collapsed": false
   },
   "outputs": [
    {
     "name": "stdout",
     "output_type": "stream",
     "text": [
      "200 OK  -  https://api.spotify.com/v1/artists/4VudMHmo1fbh2vkHIlHoYA/related-artists\n"
     ]
    },
    {
     "data": {
      "text/plain": [
       "'{\\n  \"artists\" : [ {\\n    \"external_urls\" : {\\n      \"spotify\" : \"https://open.spotify.com/artist/1g7SzzSf5mKMo5aiS2C4z5\"\\n    },\\n    \"followers\" : {\\n      \"href\" : null,\\n      \"total\" : 23157\\n    },\\n    \"genres\" : [ \"spoken word\" ],\\n    \"href\" : \"https://api.spotify.com/v1/artists/1g7SzzSf5mKMo5aiS2C4z5\",\\n    \"id\" : \"1g7SzzSf5mKMo5aiS2C4z5\",\\n    \"images\" : [ {\\n      \"height\" : 640,\\n      \"url\" : \"https://i.scdn.co/image/77fc378aeba5de005573e89d89eee60dab98e56f\",\\n      \"width\" : 640\\n    }, {\\n      \"height\" : 300,\\n      \"url\" : \"https://i.scdn.co/image/bd66b4244083ffeed82afe051e712dff7335edf0\",\\n      \"width\" : 300\\n    }, {\\n      \"height\" : 64,\\n      \"url\" : \"https://i.scdn.co/image/d66e44c1f5b648d5586144fd343893d22052ee0e\",\\n      \"width\" : 64\\n    } ],\\n    \"name\" : \"Listener\",\\n    \"popularity\" : 37,\\n    \"type\" : \"artist\",\\n    \"uri\" : \"spotify:artist:1g7SzzSf5mKMo5aiS2C4z5\"\\n  }, {\\n    \"external_urls\" : {\\n      \"spotify\" : \"https://open.spotify.com/artist/3jmTqi9jgG6PoRff9E6e72\"\\n    },\\n    \"followers\" : {\\n      \"href\" : null,\\n      \"total\" : 1\\n    },\\n    \"genres\" : [ ],\\n    \"href\" : \"https://api.spotify.com/v1/artists/3jmTqi9jgG6PoRff9E6e72\",\\n    \"id\" : \"3jmTqi9jgG6PoRff9E6e72\",\\n    \"images\" : [ {\\n      \"height\" : 640,\\n      \"url\" : \"https://i.scdn.co/image/f402124332e0cb5b56e7f438e23a9eed22cac2da\",\\n      \"width\" : 640\\n    }, {\\n      \"height\" : 300,\\n      \"url\" : \"https://i.scdn.co/image/0afc6bbdf37dd417f649f54c7dde664632cc7806\",\\n      \"width\" : 300\\n    }, {\\n      \"height\" : 64,\\n      \"url\" : \"https://i.scdn.co/image/6d754ceea5aed7c7f2b9d2f5ec651e92dcc1c5e5\",\\n      \"width\" : 64\\n    } ],\\n    \"name\" : \"Polished\",\\n    \"popularity\" : 0,\\n    \"type\" : \"artist\",\\n    \"uri\" : \"spotify:artist:3jmTqi9jgG6PoRff9E6e72\"\\n  }, {\\n    \"external_urls\" : {\\n      \"spotify\" : \"https://open.spotify.com/artist/3MWHWQjh7wazxY1HwIHgbi\"\\n    },\\n    \"followers\" : {\\n      \"href\" : null,\\n      \"total\" : 33\\n    },\\n    \"genres\" : [ ],\\n    \"href\" : \"https://api.spotify.com/v1/artists/3MWHWQjh7wazxY1HwIHgbi\",\\n    \"id\" : \"3MWHWQjh7wazxY1HwIHgbi\",\\n    \"images\" : [ {\\n      \"height\" : 671,\\n      \"url\" : \"https://i.scdn.co/image/c1bb1406f4439ceec6e6fd72aa27f04979928dce\",\\n      \"width\" : 1000\\n    }, {\\n      \"height\" : 429,\\n      \"url\" : \"https://i.scdn.co/image/b7ff51b6f2653c92489c073e803c729cdfe681f6\",\\n      \"width\" : 639\\n    }, {\\n      \"height\" : 134,\\n      \"url\" : \"https://i.scdn.co/image/c8ad02c12153ffed92fe0fe405cab55d0b65d0d3\",\\n      \"width\" : 200\\n    }, {\\n      \"height\" : 43,\\n      \"url\" : \"https://i.scdn.co/image/a215746126116585d4386e2e8ab4d13e48cc094a\",\\n      \"width\" : 64\\n    } ],\\n    \"name\" : \"Frankenixon\",\\n    \"popularity\" : 1,\\n    \"type\" : \"artist\",\\n    \"uri\" : \"spotify:artist:3MWHWQjh7wazxY1HwIHgbi\"\\n  }, {\\n    \"external_urls\" : {\\n      \"spotify\" : \"https://open.spotify.com/artist/2AGOc3zVHmuLcb97HzSiPR\"\\n    },\\n    \"followers\" : {\\n      \"href\" : null,\\n      \"total\" : 45\\n    },\\n    \"genres\" : [ ],\\n    \"href\" : \"https://api.spotify.com/v1/artists/2AGOc3zVHmuLcb97HzSiPR\",\\n    \"id\" : \"2AGOc3zVHmuLcb97HzSiPR\",\\n    \"images\" : [ {\\n      \"height\" : 640,\\n      \"url\" : \"https://i.scdn.co/image/5e794fdc58ac7f4d4cfe497fc45675d29c2b6fe1\",\\n      \"width\" : 640\\n    }, {\\n      \"height\" : 300,\\n      \"url\" : \"https://i.scdn.co/image/44cb2d0e4ccbd5c314534ae1f68e865a029952c2\",\\n      \"width\" : 300\\n    }, {\\n      \"height\" : 64,\\n      \"url\" : \"https://i.scdn.co/image/4ac891dc9d9c2b6eb1d6381160db679bf13374bb\",\\n      \"width\" : 64\\n    } ],\\n    \"name\" : \"Paul Gonzenbach\",\\n    \"popularity\" : 3,\\n    \"type\" : \"artist\",\\n    \"uri\" : \"spotify:artist:2AGOc3zVHmuLcb97HzSiPR\"\\n  }, {\\n    \"external_urls\" : {\\n      \"spotify\" : \"https://open.spotify.com/artist/1xwX9mp3flSAVkaRVsb60i\"\\n    },\\n    \"followers\" : {\\n      \"href\" : null,\\n      \"total\" : 174\\n    },\\n    \"genres\" : [ ],\\n    \"href\" : \"https://api.spotify.com/v1/artists/1xwX9mp3flSAVkaRVsb60i\",\\n    \"id\" : \"1xwX9mp3flSAVkaRVsb60i\",\\n    \"images\" : [ {\\n      \"height\" : 640,\\n      \"url\" : \"https://i.scdn.co/image/899ae2a73ad81382200ba149b694b95a5182ecfd\",\\n      \"width\" : 640\\n    }, {\\n      \"height\" : 300,\\n      \"url\" : \"https://i.scdn.co/image/c6a4377b1d160d54881c8c835df71af3c5a73ff0\",\\n      \"width\" : 300\\n    }, {\\n      \"height\" : 64,\\n      \"url\" : \"https://i.scdn.co/image/7241ed0b1065bbeade7a73c4eadbec7c2392cffe\",\\n      \"width\" : 64\\n    } ],\\n    \"name\" : \"Clay Cages\",\\n    \"popularity\" : 2,\\n    \"type\" : \"artist\",\\n    \"uri\" : \"spotify:artist:1xwX9mp3flSAVkaRVsb60i\"\\n  }, {\\n    \"external_urls\" : {\\n      \"spotify\" : \"https://open.spotify.com/artist/520bvJfApXGWVFzTWepaV7\"\\n    },\\n    \"followers\" : {\\n      \"href\" : null,\\n      \"total\" : 3\\n    },\\n    \"genres\" : [ \"thrash-groove metal\" ],\\n    \"href\" : \"https://api.spotify.com/v1/artists/520bvJfApXGWVFzTWepaV7\",\\n    \"id\" : \"520bvJfApXGWVFzTWepaV7\",\\n    \"images\" : [ {\\n      \"height\" : 640,\\n      \"url\" : \"https://i.scdn.co/image/e6d2fea23fa73ea55b397591aca2c9e4f2bfa5b1\",\\n      \"width\" : 640\\n    }, {\\n      \"height\" : 300,\\n      \"url\" : \"https://i.scdn.co/image/eb94daa0c9d208d6ff96abd45b7a016ed4f1a493\",\\n      \"width\" : 300\\n    }, {\\n      \"height\" : 64,\\n      \"url\" : \"https://i.scdn.co/image/3ade7bca765dcd950d8fcc1826a66b15b0410aaf\",\\n      \"width\" : 64\\n    } ],\\n    \"name\" : \"Delusions Of\",\\n    \"popularity\" : 0,\\n    \"type\" : \"artist\",\\n    \"uri\" : \"spotify:artist:520bvJfApXGWVFzTWepaV7\"\\n  }, {\\n    \"external_urls\" : {\\n      \"spotify\" : \"https://open.spotify.com/artist/7kJrVvReOeVWQrRjKOfmWN\"\\n    },\\n    \"followers\" : {\\n      \"href\" : null,\\n      \"total\" : 8\\n    },\\n    \"genres\" : [ ],\\n    \"href\" : \"https://api.spotify.com/v1/artists/7kJrVvReOeVWQrRjKOfmWN\",\\n    \"id\" : \"7kJrVvReOeVWQrRjKOfmWN\",\\n    \"images\" : [ {\\n      \"height\" : 640,\\n      \"url\" : \"https://i.scdn.co/image/5f27b874e8e9ade2b95626ca127bfd07d2ab4ed0\",\\n      \"width\" : 640\\n    }, {\\n      \"height\" : 300,\\n      \"url\" : \"https://i.scdn.co/image/4e782d31c6b52e11463624e189a7df2aa50aba5b\",\\n      \"width\" : 300\\n    }, {\\n      \"height\" : 64,\\n      \"url\" : \"https://i.scdn.co/image/8c83362af6cd0373422844ebea68f18f445f157a\",\\n      \"width\" : 64\\n    } ],\\n    \"name\" : \"The Bittersweet\",\\n    \"popularity\" : 0,\\n    \"type\" : \"artist\",\\n    \"uri\" : \"spotify:artist:7kJrVvReOeVWQrRjKOfmWN\"\\n  }, {\\n    \"external_urls\" : {\\n      \"spotify\" : \"https://open.spotify.com/artist/0vijF095JTdI3CpXaXuggK\"\\n    },\\n    \"followers\" : {\\n      \"href\" : null,\\n      \"total\" : 1007\\n    },\\n    \"genres\" : [ ],\\n    \"href\" : \"https://api.spotify.com/v1/artists/0vijF095JTdI3CpXaXuggK\",\\n    \"id\" : \"0vijF095JTdI3CpXaXuggK\",\\n    \"images\" : [ {\\n      \"height\" : 640,\\n      \"url\" : \"https://i.scdn.co/image/aef34185e28e7fa127c5ce5283652cf90d91844d\",\\n      \"width\" : 640\\n    }, {\\n      \"height\" : 300,\\n      \"url\" : \"https://i.scdn.co/image/9bc129bdff93d8df7cc476542be0999b0b39bc2f\",\\n      \"width\" : 300\\n    }, {\\n      \"height\" : 64,\\n      \"url\" : \"https://i.scdn.co/image/9aab230df8ff8a76c99be8848857230ccfaff8b6\",\\n      \"width\" : 64\\n    } ],\\n    \"name\" : \"Saccharine\",\\n    \"popularity\" : 0,\\n    \"type\" : \"artist\",\\n    \"uri\" : \"spotify:artist:0vijF095JTdI3CpXaXuggK\"\\n  }, {\\n    \"external_urls\" : {\\n      \"spotify\" : \"https://open.spotify.com/artist/4xiKNQB2s1gU6VIxAeXLK1\"\\n    },\\n    \"followers\" : {\\n      \"href\" : null,\\n      \"total\" : 12\\n    },\\n    \"genres\" : [ ],\\n    \"href\" : \"https://api.spotify.com/v1/artists/4xiKNQB2s1gU6VIxAeXLK1\",\\n    \"id\" : \"4xiKNQB2s1gU6VIxAeXLK1\",\\n    \"images\" : [ {\\n      \"height\" : 640,\\n      \"url\" : \"https://i.scdn.co/image/9ba2fe186ba160bc4868d92d8961702b3ecfa805\",\\n      \"width\" : 640\\n    }, {\\n      \"height\" : 300,\\n      \"url\" : \"https://i.scdn.co/image/22269fb0d3f0c1f26f20e808a3d7d0cdb073d2fd\",\\n      \"width\" : 300\\n    }, {\\n      \"height\" : 64,\\n      \"url\" : \"https://i.scdn.co/image/9c7393f1ad86540abacb3347209c9ae0e07d7c66\",\\n      \"width\" : 64\\n    } ],\\n    \"name\" : \"The Kinetic\",\\n    \"popularity\" : 6,\\n    \"type\" : \"artist\",\\n    \"uri\" : \"spotify:artist:4xiKNQB2s1gU6VIxAeXLK1\"\\n  }, {\\n    \"external_urls\" : {\\n      \"spotify\" : \"https://open.spotify.com/artist/6hG7qINRXtBIDtimi2n13G\"\\n    },\\n    \"followers\" : {\\n      \"href\" : null,\\n      \"total\" : 74\\n    },\\n    \"genres\" : [ ],\\n    \"href\" : \"https://api.spotify.com/v1/artists/6hG7qINRXtBIDtimi2n13G\",\\n    \"id\" : \"6hG7qINRXtBIDtimi2n13G\",\\n    \"images\" : [ {\\n      \"height\" : 640,\\n      \"url\" : \"https://i.scdn.co/image/961d1a5e53a10eb9a3b021335b3dc8f248ee30ad\",\\n      \"width\" : 640\\n    }, {\\n      \"height\" : 300,\\n      \"url\" : \"https://i.scdn.co/image/6a86bd3b3cb347756e6d962338800f8a99ae088b\",\\n      \"width\" : 300\\n    }, {\\n      \"height\" : 64,\\n      \"url\" : \"https://i.scdn.co/image/7c06622002650ab258eb145fb76d1ea3122ae8f4\",\\n      \"width\" : 64\\n    } ],\\n    \"name\" : \"Spiraling\",\\n    \"popularity\" : 2,\\n    \"type\" : \"artist\",\\n    \"uri\" : \"spotify:artist:6hG7qINRXtBIDtimi2n13G\"\\n  }, {\\n    \"external_urls\" : {\\n      \"spotify\" : \"https://open.spotify.com/artist/07o7ErvInLqereMfRNWfya\"\\n    },\\n    \"followers\" : {\\n      \"href\" : null,\\n      \"total\" : 107\\n    },\\n    \"genres\" : [ ],\\n    \"href\" : \"https://api.spotify.com/v1/artists/07o7ErvInLqereMfRNWfya\",\\n    \"id\" : \"07o7ErvInLqereMfRNWfya\",\\n    \"images\" : [ {\\n      \"height\" : 640,\\n      \"url\" : \"https://i.scdn.co/image/68eacd211ebf4003a3e767b4cfc19e7f4cd5165f\",\\n      \"width\" : 640\\n    }, {\\n      \"height\" : 300,\\n      \"url\" : \"https://i.scdn.co/image/96e87b748b7170890b3424d26ab451cc826872f2\",\\n      \"width\" : 300\\n    }, {\\n      \"height\" : 64,\\n      \"url\" : \"https://i.scdn.co/image/0983ccefba95ef0cbba87417c1f311fb42d2dd32\",\\n      \"width\" : 64\\n    } ],\\n    \"name\" : \"Front And Center\",\\n    \"popularity\" : 3,\\n    \"type\" : \"artist\",\\n    \"uri\" : \"spotify:artist:07o7ErvInLqereMfRNWfya\"\\n  }, {\\n    \"external_urls\" : {\\n      \"spotify\" : \"https://open.spotify.com/artist/3NUiAkuk3RpcmOmu4RRUzI\"\\n    },\\n    \"followers\" : {\\n      \"href\" : null,\\n      \"total\" : 0\\n    },\\n    \"genres\" : [ ],\\n    \"href\" : \"https://api.spotify.com/v1/artists/3NUiAkuk3RpcmOmu4RRUzI\",\\n    \"id\" : \"3NUiAkuk3RpcmOmu4RRUzI\",\\n    \"images\" : [ ],\\n    \"name\" : \"Key\\'s Piano\",\\n    \"popularity\" : 0,\\n    \"type\" : \"artist\",\\n    \"uri\" : \"spotify:artist:3NUiAkuk3RpcmOmu4RRUzI\"\\n  } ]\\n}'"
      ]
     },
     "execution_count": 2,
     "metadata": {},
     "output_type": "execute_result"
    }
   ],
   "source": [
    "#WARNING: use time.sleep(<seconds>) to limit the rate of your requests.\n",
    "\n",
    "# hint: This may require two steps: 1) doing a search to find out what an artist or album's ID is\n",
    "# and then 2) making a second API call to retreive that artist/album data.\n",
    "\n",
    "# Eric Leboff ertist id = 4VudMHmo1fbh2vkHIlHoYA\n",
    "\n",
    "def Spotify(artist, client_id, limit): \n",
    "    with requests.session() as c:\n",
    "        url = 'https://api.spotify.com/v1/artists/' + artist + '/related-artists'\n",
    "        query = {'limit': limit}\n",
    "        headers = {'response_type': 'code' + client_id}\n",
    "        time.sleep(.5)\n",
    "        r = requests.get(url, headers=headers)\n",
    "        print r.status_code, r.reason, ' - ', r.url\n",
    "        return r\n",
    "\n",
    "client_id_a = 'd1e4530604cb4725a088daa55e25709b'; # Your client id\n",
    "#client_secret_a = '543d86be621841c0a01930b4589a10ed'; # Your secret\n",
    "artist = '4VudMHmo1fbh2vkHIlHoYA'    \n",
    "response = Spotify(artist, client_id_a, 50)\n",
    "response.content"
   ]
  },
  {
   "cell_type": "markdown",
   "metadata": {},
   "source": [
    "### Transform the data"
   ]
  },
  {
   "cell_type": "code",
   "execution_count": 3,
   "metadata": {
    "collapsed": false
   },
   "outputs": [
    {
     "data": {
      "text/html": [
       "<div>\n",
       "<table border=\"1\" class=\"dataframe\">\n",
       "  <thead>\n",
       "    <tr style=\"text-align: right;\">\n",
       "      <th></th>\n",
       "      <th>external_urls</th>\n",
       "      <th>followers</th>\n",
       "      <th>genres</th>\n",
       "      <th>href</th>\n",
       "      <th>id</th>\n",
       "      <th>images</th>\n",
       "      <th>name</th>\n",
       "      <th>popularity</th>\n",
       "      <th>type</th>\n",
       "      <th>uri</th>\n",
       "    </tr>\n",
       "  </thead>\n",
       "  <tbody>\n",
       "    <tr>\n",
       "      <th>0</th>\n",
       "      <td>{u'spotify': u'https://open.spotify.com/artist...</td>\n",
       "      <td>{u'href': None, u'total': 23157}</td>\n",
       "      <td>[spoken word]</td>\n",
       "      <td>https://api.spotify.com/v1/artists/1g7SzzSf5mK...</td>\n",
       "      <td>1g7SzzSf5mKMo5aiS2C4z5</td>\n",
       "      <td>[{u'url': u'https://i.scdn.co/image/77fc378aeb...</td>\n",
       "      <td>Listener</td>\n",
       "      <td>37</td>\n",
       "      <td>artist</td>\n",
       "      <td>spotify:artist:1g7SzzSf5mKMo5aiS2C4z5</td>\n",
       "    </tr>\n",
       "    <tr>\n",
       "      <th>1</th>\n",
       "      <td>{u'spotify': u'https://open.spotify.com/artist...</td>\n",
       "      <td>{u'href': None, u'total': 1}</td>\n",
       "      <td>[]</td>\n",
       "      <td>https://api.spotify.com/v1/artists/3jmTqi9jgG6...</td>\n",
       "      <td>3jmTqi9jgG6PoRff9E6e72</td>\n",
       "      <td>[{u'url': u'https://i.scdn.co/image/f402124332...</td>\n",
       "      <td>Polished</td>\n",
       "      <td>0</td>\n",
       "      <td>artist</td>\n",
       "      <td>spotify:artist:3jmTqi9jgG6PoRff9E6e72</td>\n",
       "    </tr>\n",
       "    <tr>\n",
       "      <th>2</th>\n",
       "      <td>{u'spotify': u'https://open.spotify.com/artist...</td>\n",
       "      <td>{u'href': None, u'total': 33}</td>\n",
       "      <td>[]</td>\n",
       "      <td>https://api.spotify.com/v1/artists/3MWHWQjh7wa...</td>\n",
       "      <td>3MWHWQjh7wazxY1HwIHgbi</td>\n",
       "      <td>[{u'url': u'https://i.scdn.co/image/c1bb1406f4...</td>\n",
       "      <td>Frankenixon</td>\n",
       "      <td>1</td>\n",
       "      <td>artist</td>\n",
       "      <td>spotify:artist:3MWHWQjh7wazxY1HwIHgbi</td>\n",
       "    </tr>\n",
       "    <tr>\n",
       "      <th>3</th>\n",
       "      <td>{u'spotify': u'https://open.spotify.com/artist...</td>\n",
       "      <td>{u'href': None, u'total': 45}</td>\n",
       "      <td>[]</td>\n",
       "      <td>https://api.spotify.com/v1/artists/2AGOc3zVHmu...</td>\n",
       "      <td>2AGOc3zVHmuLcb97HzSiPR</td>\n",
       "      <td>[{u'url': u'https://i.scdn.co/image/5e794fdc58...</td>\n",
       "      <td>Paul Gonzenbach</td>\n",
       "      <td>3</td>\n",
       "      <td>artist</td>\n",
       "      <td>spotify:artist:2AGOc3zVHmuLcb97HzSiPR</td>\n",
       "    </tr>\n",
       "    <tr>\n",
       "      <th>4</th>\n",
       "      <td>{u'spotify': u'https://open.spotify.com/artist...</td>\n",
       "      <td>{u'href': None, u'total': 174}</td>\n",
       "      <td>[]</td>\n",
       "      <td>https://api.spotify.com/v1/artists/1xwX9mp3flS...</td>\n",
       "      <td>1xwX9mp3flSAVkaRVsb60i</td>\n",
       "      <td>[{u'url': u'https://i.scdn.co/image/899ae2a73a...</td>\n",
       "      <td>Clay Cages</td>\n",
       "      <td>2</td>\n",
       "      <td>artist</td>\n",
       "      <td>spotify:artist:1xwX9mp3flSAVkaRVsb60i</td>\n",
       "    </tr>\n",
       "    <tr>\n",
       "      <th>5</th>\n",
       "      <td>{u'spotify': u'https://open.spotify.com/artist...</td>\n",
       "      <td>{u'href': None, u'total': 3}</td>\n",
       "      <td>[thrash-groove metal]</td>\n",
       "      <td>https://api.spotify.com/v1/artists/520bvJfApXG...</td>\n",
       "      <td>520bvJfApXGWVFzTWepaV7</td>\n",
       "      <td>[{u'url': u'https://i.scdn.co/image/e6d2fea23f...</td>\n",
       "      <td>Delusions Of</td>\n",
       "      <td>0</td>\n",
       "      <td>artist</td>\n",
       "      <td>spotify:artist:520bvJfApXGWVFzTWepaV7</td>\n",
       "    </tr>\n",
       "    <tr>\n",
       "      <th>6</th>\n",
       "      <td>{u'spotify': u'https://open.spotify.com/artist...</td>\n",
       "      <td>{u'href': None, u'total': 8}</td>\n",
       "      <td>[]</td>\n",
       "      <td>https://api.spotify.com/v1/artists/7kJrVvReOeV...</td>\n",
       "      <td>7kJrVvReOeVWQrRjKOfmWN</td>\n",
       "      <td>[{u'url': u'https://i.scdn.co/image/5f27b874e8...</td>\n",
       "      <td>The Bittersweet</td>\n",
       "      <td>0</td>\n",
       "      <td>artist</td>\n",
       "      <td>spotify:artist:7kJrVvReOeVWQrRjKOfmWN</td>\n",
       "    </tr>\n",
       "    <tr>\n",
       "      <th>7</th>\n",
       "      <td>{u'spotify': u'https://open.spotify.com/artist...</td>\n",
       "      <td>{u'href': None, u'total': 1007}</td>\n",
       "      <td>[]</td>\n",
       "      <td>https://api.spotify.com/v1/artists/0vijF095JTd...</td>\n",
       "      <td>0vijF095JTdI3CpXaXuggK</td>\n",
       "      <td>[{u'url': u'https://i.scdn.co/image/aef34185e2...</td>\n",
       "      <td>Saccharine</td>\n",
       "      <td>0</td>\n",
       "      <td>artist</td>\n",
       "      <td>spotify:artist:0vijF095JTdI3CpXaXuggK</td>\n",
       "    </tr>\n",
       "    <tr>\n",
       "      <th>8</th>\n",
       "      <td>{u'spotify': u'https://open.spotify.com/artist...</td>\n",
       "      <td>{u'href': None, u'total': 12}</td>\n",
       "      <td>[]</td>\n",
       "      <td>https://api.spotify.com/v1/artists/4xiKNQB2s1g...</td>\n",
       "      <td>4xiKNQB2s1gU6VIxAeXLK1</td>\n",
       "      <td>[{u'url': u'https://i.scdn.co/image/9ba2fe186b...</td>\n",
       "      <td>The Kinetic</td>\n",
       "      <td>6</td>\n",
       "      <td>artist</td>\n",
       "      <td>spotify:artist:4xiKNQB2s1gU6VIxAeXLK1</td>\n",
       "    </tr>\n",
       "    <tr>\n",
       "      <th>9</th>\n",
       "      <td>{u'spotify': u'https://open.spotify.com/artist...</td>\n",
       "      <td>{u'href': None, u'total': 74}</td>\n",
       "      <td>[]</td>\n",
       "      <td>https://api.spotify.com/v1/artists/6hG7qINRXtB...</td>\n",
       "      <td>6hG7qINRXtBIDtimi2n13G</td>\n",
       "      <td>[{u'url': u'https://i.scdn.co/image/961d1a5e53...</td>\n",
       "      <td>Spiraling</td>\n",
       "      <td>2</td>\n",
       "      <td>artist</td>\n",
       "      <td>spotify:artist:6hG7qINRXtBIDtimi2n13G</td>\n",
       "    </tr>\n",
       "    <tr>\n",
       "      <th>10</th>\n",
       "      <td>{u'spotify': u'https://open.spotify.com/artist...</td>\n",
       "      <td>{u'href': None, u'total': 107}</td>\n",
       "      <td>[]</td>\n",
       "      <td>https://api.spotify.com/v1/artists/07o7ErvInLq...</td>\n",
       "      <td>07o7ErvInLqereMfRNWfya</td>\n",
       "      <td>[{u'url': u'https://i.scdn.co/image/68eacd211e...</td>\n",
       "      <td>Front And Center</td>\n",
       "      <td>3</td>\n",
       "      <td>artist</td>\n",
       "      <td>spotify:artist:07o7ErvInLqereMfRNWfya</td>\n",
       "    </tr>\n",
       "    <tr>\n",
       "      <th>11</th>\n",
       "      <td>{u'spotify': u'https://open.spotify.com/artist...</td>\n",
       "      <td>{u'href': None, u'total': 0}</td>\n",
       "      <td>[]</td>\n",
       "      <td>https://api.spotify.com/v1/artists/3NUiAkuk3Rp...</td>\n",
       "      <td>3NUiAkuk3RpcmOmu4RRUzI</td>\n",
       "      <td>[]</td>\n",
       "      <td>Key's Piano</td>\n",
       "      <td>0</td>\n",
       "      <td>artist</td>\n",
       "      <td>spotify:artist:3NUiAkuk3RpcmOmu4RRUzI</td>\n",
       "    </tr>\n",
       "  </tbody>\n",
       "</table>\n",
       "</div>"
      ],
      "text/plain": [
       "                                        external_urls  \\\n",
       "0   {u'spotify': u'https://open.spotify.com/artist...   \n",
       "1   {u'spotify': u'https://open.spotify.com/artist...   \n",
       "2   {u'spotify': u'https://open.spotify.com/artist...   \n",
       "3   {u'spotify': u'https://open.spotify.com/artist...   \n",
       "4   {u'spotify': u'https://open.spotify.com/artist...   \n",
       "5   {u'spotify': u'https://open.spotify.com/artist...   \n",
       "6   {u'spotify': u'https://open.spotify.com/artist...   \n",
       "7   {u'spotify': u'https://open.spotify.com/artist...   \n",
       "8   {u'spotify': u'https://open.spotify.com/artist...   \n",
       "9   {u'spotify': u'https://open.spotify.com/artist...   \n",
       "10  {u'spotify': u'https://open.spotify.com/artist...   \n",
       "11  {u'spotify': u'https://open.spotify.com/artist...   \n",
       "\n",
       "                           followers                 genres  \\\n",
       "0   {u'href': None, u'total': 23157}          [spoken word]   \n",
       "1       {u'href': None, u'total': 1}                     []   \n",
       "2      {u'href': None, u'total': 33}                     []   \n",
       "3      {u'href': None, u'total': 45}                     []   \n",
       "4     {u'href': None, u'total': 174}                     []   \n",
       "5       {u'href': None, u'total': 3}  [thrash-groove metal]   \n",
       "6       {u'href': None, u'total': 8}                     []   \n",
       "7    {u'href': None, u'total': 1007}                     []   \n",
       "8      {u'href': None, u'total': 12}                     []   \n",
       "9      {u'href': None, u'total': 74}                     []   \n",
       "10    {u'href': None, u'total': 107}                     []   \n",
       "11      {u'href': None, u'total': 0}                     []   \n",
       "\n",
       "                                                 href                      id  \\\n",
       "0   https://api.spotify.com/v1/artists/1g7SzzSf5mK...  1g7SzzSf5mKMo5aiS2C4z5   \n",
       "1   https://api.spotify.com/v1/artists/3jmTqi9jgG6...  3jmTqi9jgG6PoRff9E6e72   \n",
       "2   https://api.spotify.com/v1/artists/3MWHWQjh7wa...  3MWHWQjh7wazxY1HwIHgbi   \n",
       "3   https://api.spotify.com/v1/artists/2AGOc3zVHmu...  2AGOc3zVHmuLcb97HzSiPR   \n",
       "4   https://api.spotify.com/v1/artists/1xwX9mp3flS...  1xwX9mp3flSAVkaRVsb60i   \n",
       "5   https://api.spotify.com/v1/artists/520bvJfApXG...  520bvJfApXGWVFzTWepaV7   \n",
       "6   https://api.spotify.com/v1/artists/7kJrVvReOeV...  7kJrVvReOeVWQrRjKOfmWN   \n",
       "7   https://api.spotify.com/v1/artists/0vijF095JTd...  0vijF095JTdI3CpXaXuggK   \n",
       "8   https://api.spotify.com/v1/artists/4xiKNQB2s1g...  4xiKNQB2s1gU6VIxAeXLK1   \n",
       "9   https://api.spotify.com/v1/artists/6hG7qINRXtB...  6hG7qINRXtBIDtimi2n13G   \n",
       "10  https://api.spotify.com/v1/artists/07o7ErvInLq...  07o7ErvInLqereMfRNWfya   \n",
       "11  https://api.spotify.com/v1/artists/3NUiAkuk3Rp...  3NUiAkuk3RpcmOmu4RRUzI   \n",
       "\n",
       "                                               images              name  \\\n",
       "0   [{u'url': u'https://i.scdn.co/image/77fc378aeb...          Listener   \n",
       "1   [{u'url': u'https://i.scdn.co/image/f402124332...          Polished   \n",
       "2   [{u'url': u'https://i.scdn.co/image/c1bb1406f4...       Frankenixon   \n",
       "3   [{u'url': u'https://i.scdn.co/image/5e794fdc58...   Paul Gonzenbach   \n",
       "4   [{u'url': u'https://i.scdn.co/image/899ae2a73a...        Clay Cages   \n",
       "5   [{u'url': u'https://i.scdn.co/image/e6d2fea23f...      Delusions Of   \n",
       "6   [{u'url': u'https://i.scdn.co/image/5f27b874e8...   The Bittersweet   \n",
       "7   [{u'url': u'https://i.scdn.co/image/aef34185e2...        Saccharine   \n",
       "8   [{u'url': u'https://i.scdn.co/image/9ba2fe186b...       The Kinetic   \n",
       "9   [{u'url': u'https://i.scdn.co/image/961d1a5e53...         Spiraling   \n",
       "10  [{u'url': u'https://i.scdn.co/image/68eacd211e...  Front And Center   \n",
       "11                                                 []       Key's Piano   \n",
       "\n",
       "    popularity    type                                    uri  \n",
       "0           37  artist  spotify:artist:1g7SzzSf5mKMo5aiS2C4z5  \n",
       "1            0  artist  spotify:artist:3jmTqi9jgG6PoRff9E6e72  \n",
       "2            1  artist  spotify:artist:3MWHWQjh7wazxY1HwIHgbi  \n",
       "3            3  artist  spotify:artist:2AGOc3zVHmuLcb97HzSiPR  \n",
       "4            2  artist  spotify:artist:1xwX9mp3flSAVkaRVsb60i  \n",
       "5            0  artist  spotify:artist:520bvJfApXGWVFzTWepaV7  \n",
       "6            0  artist  spotify:artist:7kJrVvReOeVWQrRjKOfmWN  \n",
       "7            0  artist  spotify:artist:0vijF095JTdI3CpXaXuggK  \n",
       "8            6  artist  spotify:artist:4xiKNQB2s1gU6VIxAeXLK1  \n",
       "9            2  artist  spotify:artist:6hG7qINRXtBIDtimi2n13G  \n",
       "10           3  artist  spotify:artist:07o7ErvInLqereMfRNWfya  \n",
       "11           0  artist  spotify:artist:3NUiAkuk3RpcmOmu4RRUzI  "
      ]
     },
     "execution_count": 3,
     "metadata": {},
     "output_type": "execute_result"
    }
   ],
   "source": [
    "\n",
    "def import_response_to_pandas(response):\n",
    "    \"\"\"\n",
    "    For Uber API v1.2.\n",
    "    This function converts a successful API response and returns a pandas dataframe.\n",
    "    If the response was not successful, it returns an empty list.\n",
    "    \"\"\"\n",
    "    response_as_dict = json.loads(response.content)\n",
    "    if 'artists' in response_as_dict:\n",
    "        return pd.read_json(json.dumps(response_as_dict['artists']))\n",
    "    else:\n",
    "        return []\n",
    "\n",
    "initial = import_response_to_pandas(response)\n",
    "initial"
   ]
  },
  {
   "cell_type": "markdown",
   "metadata": {},
   "source": [
    "### Load the data"
   ]
  },
  {
   "cell_type": "code",
   "execution_count": 4,
   "metadata": {
    "collapsed": false
   },
   "outputs": [
    {
     "data": {
      "text/html": [
       "<div>\n",
       "<table border=\"1\" class=\"dataframe\">\n",
       "  <thead>\n",
       "    <tr style=\"text-align: right;\">\n",
       "      <th></th>\n",
       "      <th>followers</th>\n",
       "      <th>name</th>\n",
       "      <th>popularity</th>\n",
       "      <th>type</th>\n",
       "    </tr>\n",
       "  </thead>\n",
       "  <tbody>\n",
       "    <tr>\n",
       "      <th>0</th>\n",
       "      <td>{u'href': None, u'total': 23157}</td>\n",
       "      <td>Listener</td>\n",
       "      <td>37</td>\n",
       "      <td>artist</td>\n",
       "    </tr>\n",
       "    <tr>\n",
       "      <th>1</th>\n",
       "      <td>{u'href': None, u'total': 1}</td>\n",
       "      <td>Polished</td>\n",
       "      <td>0</td>\n",
       "      <td>artist</td>\n",
       "    </tr>\n",
       "    <tr>\n",
       "      <th>2</th>\n",
       "      <td>{u'href': None, u'total': 33}</td>\n",
       "      <td>Frankenixon</td>\n",
       "      <td>1</td>\n",
       "      <td>artist</td>\n",
       "    </tr>\n",
       "    <tr>\n",
       "      <th>3</th>\n",
       "      <td>{u'href': None, u'total': 45}</td>\n",
       "      <td>Paul Gonzenbach</td>\n",
       "      <td>3</td>\n",
       "      <td>artist</td>\n",
       "    </tr>\n",
       "    <tr>\n",
       "      <th>4</th>\n",
       "      <td>{u'href': None, u'total': 174}</td>\n",
       "      <td>Clay Cages</td>\n",
       "      <td>2</td>\n",
       "      <td>artist</td>\n",
       "    </tr>\n",
       "    <tr>\n",
       "      <th>5</th>\n",
       "      <td>{u'href': None, u'total': 3}</td>\n",
       "      <td>Delusions Of</td>\n",
       "      <td>0</td>\n",
       "      <td>artist</td>\n",
       "    </tr>\n",
       "    <tr>\n",
       "      <th>6</th>\n",
       "      <td>{u'href': None, u'total': 8}</td>\n",
       "      <td>The Bittersweet</td>\n",
       "      <td>0</td>\n",
       "      <td>artist</td>\n",
       "    </tr>\n",
       "    <tr>\n",
       "      <th>7</th>\n",
       "      <td>{u'href': None, u'total': 1007}</td>\n",
       "      <td>Saccharine</td>\n",
       "      <td>0</td>\n",
       "      <td>artist</td>\n",
       "    </tr>\n",
       "    <tr>\n",
       "      <th>8</th>\n",
       "      <td>{u'href': None, u'total': 12}</td>\n",
       "      <td>The Kinetic</td>\n",
       "      <td>6</td>\n",
       "      <td>artist</td>\n",
       "    </tr>\n",
       "    <tr>\n",
       "      <th>9</th>\n",
       "      <td>{u'href': None, u'total': 74}</td>\n",
       "      <td>Spiraling</td>\n",
       "      <td>2</td>\n",
       "      <td>artist</td>\n",
       "    </tr>\n",
       "    <tr>\n",
       "      <th>10</th>\n",
       "      <td>{u'href': None, u'total': 107}</td>\n",
       "      <td>Front And Center</td>\n",
       "      <td>3</td>\n",
       "      <td>artist</td>\n",
       "    </tr>\n",
       "    <tr>\n",
       "      <th>11</th>\n",
       "      <td>{u'href': None, u'total': 0}</td>\n",
       "      <td>Key's Piano</td>\n",
       "      <td>0</td>\n",
       "      <td>artist</td>\n",
       "    </tr>\n",
       "  </tbody>\n",
       "</table>\n",
       "</div>"
      ],
      "text/plain": [
       "                           followers              name  popularity    type\n",
       "0   {u'href': None, u'total': 23157}          Listener          37  artist\n",
       "1       {u'href': None, u'total': 1}          Polished           0  artist\n",
       "2      {u'href': None, u'total': 33}       Frankenixon           1  artist\n",
       "3      {u'href': None, u'total': 45}   Paul Gonzenbach           3  artist\n",
       "4     {u'href': None, u'total': 174}        Clay Cages           2  artist\n",
       "5       {u'href': None, u'total': 3}      Delusions Of           0  artist\n",
       "6       {u'href': None, u'total': 8}   The Bittersweet           0  artist\n",
       "7    {u'href': None, u'total': 1007}        Saccharine           0  artist\n",
       "8      {u'href': None, u'total': 12}       The Kinetic           6  artist\n",
       "9      {u'href': None, u'total': 74}         Spiraling           2  artist\n",
       "10    {u'href': None, u'total': 107}  Front And Center           3  artist\n",
       "11      {u'href': None, u'total': 0}       Key's Piano           0  artist"
      ]
     },
     "execution_count": 4,
     "metadata": {},
     "output_type": "execute_result"
    }
   ],
   "source": [
    "df = pd.DataFrame(initial)\n",
    "df[['followers', 'name', 'popularity', 'type']]"
   ]
  },
  {
   "cell_type": "code",
   "execution_count": 11,
   "metadata": {
    "collapsed": false
   },
   "outputs": [
    {
     "data": {
      "text/plain": [
       "[23157, 1, 33, 45, 174, 3, 8, 1007, 12, 74, 107, 0]"
      ]
     },
     "execution_count": 11,
     "metadata": {},
     "output_type": "execute_result"
    }
   ],
   "source": [
    "dict_foll = dict(df['followers'])\n",
    "tricky_followers = []\n",
    "for key, value in dict_foll.items():\n",
    "    tricky_followers.append(value['total'])\n",
    "tricky_followers"
   ]
  },
  {
   "cell_type": "code",
   "execution_count": 12,
   "metadata": {
    "collapsed": false
   },
   "outputs": [],
   "source": [
    "df['followers'] = tricky_followers\n",
    "artists = df[['followers', 'name', 'popularity', 'type']]"
   ]
  },
  {
   "cell_type": "markdown",
   "metadata": {},
   "source": [
    "### Explore and clean the data"
   ]
  },
  {
   "cell_type": "code",
   "execution_count": 4,
   "metadata": {
    "collapsed": true
   },
   "outputs": [],
   "source": [
    "# e.g., remove missing values, etc\n",
    "# e.g., what is the mean, median, mode? Are there outliers? \n",
    "# Any indications the data has issues?"
   ]
  },
  {
   "cell_type": "code",
   "execution_count": 13,
   "metadata": {
    "collapsed": false
   },
   "outputs": [
    {
     "data": {
      "text/html": [
       "<div>\n",
       "<table border=\"1\" class=\"dataframe\">\n",
       "  <thead>\n",
       "    <tr style=\"text-align: right;\">\n",
       "      <th></th>\n",
       "      <th>followers</th>\n",
       "      <th>popularity</th>\n",
       "    </tr>\n",
       "  </thead>\n",
       "  <tbody>\n",
       "    <tr>\n",
       "      <th>count</th>\n",
       "      <td>12.000000</td>\n",
       "      <td>12.000000</td>\n",
       "    </tr>\n",
       "    <tr>\n",
       "      <th>mean</th>\n",
       "      <td>2051.750000</td>\n",
       "      <td>4.500000</td>\n",
       "    </tr>\n",
       "    <tr>\n",
       "      <th>std</th>\n",
       "      <td>6652.375476</td>\n",
       "      <td>10.396678</td>\n",
       "    </tr>\n",
       "    <tr>\n",
       "      <th>min</th>\n",
       "      <td>0.000000</td>\n",
       "      <td>0.000000</td>\n",
       "    </tr>\n",
       "    <tr>\n",
       "      <th>25%</th>\n",
       "      <td>6.750000</td>\n",
       "      <td>0.000000</td>\n",
       "    </tr>\n",
       "    <tr>\n",
       "      <th>50%</th>\n",
       "      <td>39.000000</td>\n",
       "      <td>1.500000</td>\n",
       "    </tr>\n",
       "    <tr>\n",
       "      <th>75%</th>\n",
       "      <td>123.750000</td>\n",
       "      <td>3.000000</td>\n",
       "    </tr>\n",
       "    <tr>\n",
       "      <th>max</th>\n",
       "      <td>23157.000000</td>\n",
       "      <td>37.000000</td>\n",
       "    </tr>\n",
       "  </tbody>\n",
       "</table>\n",
       "</div>"
      ],
      "text/plain": [
       "          followers  popularity\n",
       "count     12.000000   12.000000\n",
       "mean    2051.750000    4.500000\n",
       "std     6652.375476   10.396678\n",
       "min        0.000000    0.000000\n",
       "25%        6.750000    0.000000\n",
       "50%       39.000000    1.500000\n",
       "75%      123.750000    3.000000\n",
       "max    23157.000000   37.000000"
      ]
     },
     "execution_count": 13,
     "metadata": {},
     "output_type": "execute_result"
    }
   ],
   "source": [
    "artists.describe()"
   ]
  },
  {
   "cell_type": "code",
   "execution_count": 14,
   "metadata": {
    "collapsed": false
   },
   "outputs": [
    {
     "data": {
      "text/plain": [
       "followers     39.0\n",
       "popularity     1.5\n",
       "dtype: float64"
      ]
     },
     "execution_count": 14,
     "metadata": {},
     "output_type": "execute_result"
    }
   ],
   "source": [
    "artists.median()"
   ]
  },
  {
   "cell_type": "code",
   "execution_count": 21,
   "metadata": {
    "collapsed": false
   },
   "outputs": [
    {
     "data": {
      "text/html": [
       "<div>\n",
       "<table border=\"1\" class=\"dataframe\">\n",
       "  <thead>\n",
       "    <tr style=\"text-align: right;\">\n",
       "      <th></th>\n",
       "      <th>followers</th>\n",
       "      <th>name</th>\n",
       "      <th>popularity</th>\n",
       "      <th>type</th>\n",
       "    </tr>\n",
       "  </thead>\n",
       "  <tbody>\n",
       "    <tr>\n",
       "      <th>1</th>\n",
       "      <td>1</td>\n",
       "      <td>Polished</td>\n",
       "      <td>0</td>\n",
       "      <td>artist</td>\n",
       "    </tr>\n",
       "    <tr>\n",
       "      <th>2</th>\n",
       "      <td>33</td>\n",
       "      <td>Frankenixon</td>\n",
       "      <td>1</td>\n",
       "      <td>artist</td>\n",
       "    </tr>\n",
       "    <tr>\n",
       "      <th>3</th>\n",
       "      <td>45</td>\n",
       "      <td>Paul Gonzenbach</td>\n",
       "      <td>3</td>\n",
       "      <td>artist</td>\n",
       "    </tr>\n",
       "    <tr>\n",
       "      <th>4</th>\n",
       "      <td>174</td>\n",
       "      <td>Clay Cages</td>\n",
       "      <td>2</td>\n",
       "      <td>artist</td>\n",
       "    </tr>\n",
       "    <tr>\n",
       "      <th>5</th>\n",
       "      <td>3</td>\n",
       "      <td>Delusions Of</td>\n",
       "      <td>0</td>\n",
       "      <td>artist</td>\n",
       "    </tr>\n",
       "    <tr>\n",
       "      <th>6</th>\n",
       "      <td>8</td>\n",
       "      <td>The Bittersweet</td>\n",
       "      <td>0</td>\n",
       "      <td>artist</td>\n",
       "    </tr>\n",
       "    <tr>\n",
       "      <th>7</th>\n",
       "      <td>1007</td>\n",
       "      <td>Saccharine</td>\n",
       "      <td>0</td>\n",
       "      <td>artist</td>\n",
       "    </tr>\n",
       "    <tr>\n",
       "      <th>8</th>\n",
       "      <td>12</td>\n",
       "      <td>The Kinetic</td>\n",
       "      <td>6</td>\n",
       "      <td>artist</td>\n",
       "    </tr>\n",
       "    <tr>\n",
       "      <th>9</th>\n",
       "      <td>74</td>\n",
       "      <td>Spiraling</td>\n",
       "      <td>2</td>\n",
       "      <td>artist</td>\n",
       "    </tr>\n",
       "    <tr>\n",
       "      <th>10</th>\n",
       "      <td>107</td>\n",
       "      <td>Front And Center</td>\n",
       "      <td>3</td>\n",
       "      <td>artist</td>\n",
       "    </tr>\n",
       "    <tr>\n",
       "      <th>11</th>\n",
       "      <td>0</td>\n",
       "      <td>Key's Piano</td>\n",
       "      <td>0</td>\n",
       "      <td>artist</td>\n",
       "    </tr>\n",
       "  </tbody>\n",
       "</table>\n",
       "</div>"
      ],
      "text/plain": [
       "    followers              name  popularity    type\n",
       "1           1          Polished           0  artist\n",
       "2          33       Frankenixon           1  artist\n",
       "3          45   Paul Gonzenbach           3  artist\n",
       "4         174        Clay Cages           2  artist\n",
       "5           3      Delusions Of           0  artist\n",
       "6           8   The Bittersweet           0  artist\n",
       "7        1007        Saccharine           0  artist\n",
       "8          12       The Kinetic           6  artist\n",
       "9          74         Spiraling           2  artist\n",
       "10        107  Front And Center           3  artist\n",
       "11          0       Key's Piano           0  artist"
      ]
     },
     "execution_count": 21,
     "metadata": {},
     "output_type": "execute_result"
    }
   ],
   "source": [
    "df = artists.drop(artists.index[[0]])\n",
    "df"
   ]
  },
  {
   "cell_type": "markdown",
   "metadata": {},
   "source": [
    "### Analyze the data"
   ]
  },
  {
   "cell_type": "code",
   "execution_count": 22,
   "metadata": {
    "collapsed": false
   },
   "outputs": [
    {
     "data": {
      "text/plain": [
       "<matplotlib.axes._subplots.AxesSubplot at 0xd6255c0>"
      ]
     },
     "execution_count": 22,
     "metadata": {},
     "output_type": "execute_result"
    },
    {
     "data": {
      "image/png": "[encoded data removed]",
      "text/plain": [
       "<matplotlib.figure.Figure at 0xd72ccc0>"
      ]
     },
     "metadata": {},
     "output_type": "display_data"
    }
   ],
   "source": [
    "df['popularity'].hist()\n"
   ]
  },
  {
   "cell_type": "markdown",
   "metadata": {},
   "source": [
    "### Visualize your Results"
   ]
  },
  {
   "cell_type": "code",
   "execution_count": null,
   "metadata": {
    "collapsed": true
   },
   "outputs": [],
   "source": []
  },
  {
   "cell_type": "markdown",
   "metadata": {},
   "source": [
    "BONUS: Look at the documentation for https://pokeapi.co/. It gives you stats about Pokemon. It's an easy exercise because this data doesn't require authentication. Do an analysis of your choice on Pokemon."
   ]
  },
  {
   "cell_type": "code",
   "execution_count": null,
   "metadata": {
    "collapsed": true
   },
   "outputs": [],
   "source": []
  }
 ],
 "metadata": {
  "anaconda-cloud": {},
  "kernelspec": {
   "display_name": "Python 2",
   "language": "python",
   "name": "python2"
  },
  "language_info": {
   "codemirror_mode": {
    "name": "ipython",
    "version": 2
   },
   "file_extension": ".py",
   "mimetype": "text/x-python",
   "name": "python",
   "nbconvert_exporter": "python",
   "pygments_lexer": "ipython2",
   "version": "2.7.13"
  }
 },
 "nbformat": 4,
 "nbformat_minor": 0
}
